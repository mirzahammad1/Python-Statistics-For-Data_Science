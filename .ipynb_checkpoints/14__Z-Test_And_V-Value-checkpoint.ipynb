{
 "cells": [
  {
   "cell_type": "code",
   "execution_count": 1,
   "id": "4dff8ccd",
   "metadata": {},
   "outputs": [],
   "source": [
    "import random\n",
    "random.seed(20)\n",
    "from statsmodels.stats.weightstats import ztest as ztest"
   ]
  },
  {
   "cell_type": "markdown",
   "id": "c062ab00",
   "metadata": {},
   "source": [
    "$ \\mu = 100 $ <br>\n",
    "$ \\sigma = 15 $"
   ]
  },
  {
   "cell_type": "code",
   "execution_count": 2,
   "id": "3d5ae204",
   "metadata": {},
   "outputs": [],
   "source": [
    "a = [ random.gauss(100,15) for x in range (40)]"
   ]
  },
  {
   "cell_type": "code",
   "execution_count": 3,
   "id": "4ecb889c",
   "metadata": {},
   "outputs": [
    {
     "data": {
      "text/plain": [
       "(1.3430675401429018, 0.17925010504664385)"
      ]
     },
     "execution_count": 3,
     "metadata": {},
     "output_type": "execute_result"
    }
   ],
   "source": [
    "ztest(a,value = 100)"
   ]
  },
  {
   "cell_type": "code",
   "execution_count": 5,
   "id": "57eeec0c",
   "metadata": {},
   "outputs": [],
   "source": [
    "a = [ random.gauss(120,15) for x in range (40)]"
   ]
  },
  {
   "cell_type": "code",
   "execution_count": 6,
   "id": "813d2f35",
   "metadata": {},
   "outputs": [
    {
     "data": {
      "text/plain": [
       "(11.211479090416809, 1.790788490917193e-29)"
      ]
     },
     "execution_count": 6,
     "metadata": {},
     "output_type": "execute_result"
    }
   ],
   "source": [
    "ztest(a,value = 100,alternative='larger')"
   ]
  },
  {
   "cell_type": "code",
   "execution_count": 7,
   "id": "ff2de116",
   "metadata": {},
   "outputs": [],
   "source": [
    "a = [ random.gauss(80,15) for x in range (40)]"
   ]
  },
  {
   "cell_type": "code",
   "execution_count": 8,
   "id": "992e6c64",
   "metadata": {},
   "outputs": [
    {
     "data": {
      "text/plain": [
       "(-7.855546101094761, 1.9901702564051436e-15)"
      ]
     },
     "execution_count": 8,
     "metadata": {},
     "output_type": "execute_result"
    }
   ],
   "source": [
    "ztest(a,value = 100,alternative='smaller')"
   ]
  },
  {
   "cell_type": "code",
   "execution_count": null,
   "id": "10e22345",
   "metadata": {},
   "outputs": [],
   "source": []
  },
  {
   "cell_type": "code",
   "execution_count": 9,
   "id": "d6d185f4",
   "metadata": {},
   "outputs": [],
   "source": [
    "a = [ random.gauss(100,15) for x in range (40)]\n",
    "b = [ random.gauss(120,15) for x in range (40)]"
   ]
  },
  {
   "cell_type": "code",
   "execution_count": 10,
   "id": "a3cf2149",
   "metadata": {},
   "outputs": [
    {
     "data": {
      "text/plain": [
       "(-5.701557973122156, 1.18717346315351e-08)"
      ]
     },
     "execution_count": 10,
     "metadata": {},
     "output_type": "execute_result"
    }
   ],
   "source": [
    "ztest(a,b,value=0)"
   ]
  },
  {
   "cell_type": "code",
   "execution_count": 11,
   "id": "0a348f10",
   "metadata": {},
   "outputs": [
    {
     "data": {
      "text/plain": [
       "(-0.5790659941381546, 0.5625446444282691)"
      ]
     },
     "execution_count": 11,
     "metadata": {},
     "output_type": "execute_result"
    }
   ],
   "source": [
    "a = [ random.gauss(100,15) for x in range (40)]\n",
    "b = [ random.gauss(100,15) for x in range (40)]\n",
    "ztest(a,b,value=0)"
   ]
  },
  {
   "cell_type": "code",
   "execution_count": null,
   "id": "e897ee94",
   "metadata": {},
   "outputs": [],
   "source": []
  }
 ],
 "metadata": {
  "kernelspec": {
   "display_name": "Python 3 (ipykernel)",
   "language": "python",
   "name": "python3"
  },
  "language_info": {
   "codemirror_mode": {
    "name": "ipython",
    "version": 3
   },
   "file_extension": ".py",
   "mimetype": "text/x-python",
   "name": "python",
   "nbconvert_exporter": "python",
   "pygments_lexer": "ipython3",
   "version": "3.11.3"
  }
 },
 "nbformat": 4,
 "nbformat_minor": 5
}
