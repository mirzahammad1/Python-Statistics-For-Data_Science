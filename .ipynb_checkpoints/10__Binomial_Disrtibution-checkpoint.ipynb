{
 "cells": [
  {
   "cell_type": "markdown",
   "id": "c2060807",
   "metadata": {},
   "source": [
    "# Problem Statement\n",
    "Consider a random experiment of tossing a biased coin 6 times where the probability of getting a head is 0.6. If 'getting a head' is considered as 'success', then the binomial distribution table will contain the probability of r successes for each possible value of r.\n",
    "CALCULATE A BIONOMIAL DISTRIBUTION USING THE VALUES OF n AND p TO CHECK IF THE DISTRIBUTION IS NORMAL.."
   ]
  },
  {
   "cell_type": "code",
   "execution_count": 1,
   "id": "b5d0bf08",
   "metadata": {},
   "outputs": [],
   "source": [
    "from scipy.stats import binom\n",
    "import matplotlib.pyplot as plt"
   ]
  },
  {
   "cell_type": "code",
   "execution_count": 2,
   "id": "ab0827d8",
   "metadata": {},
   "outputs": [],
   "source": [
    "# Setting the values of n and p\n",
    "n = 8\n",
    "p = 0.3"
   ]
  },
  {
   "cell_type": "code",
   "execution_count": 3,
   "id": "40b39007",
   "metadata": {},
   "outputs": [],
   "source": [
    "# Defining the list of r values\n",
    "r_value = list(range(n+1))"
   ]
  },
  {
   "cell_type": "code",
   "execution_count": 4,
   "id": "d659484f",
   "metadata": {},
   "outputs": [],
   "source": [
    "# Obtaining the mean and variance\n",
    "mean, var = binom.stats(n,p)"
   ]
  },
  {
   "cell_type": "code",
   "execution_count": 9,
   "id": "05da5b31",
   "metadata": {},
   "outputs": [],
   "source": [
    "# list of pmf values\n",
    "dist = [binom.pmf(r,n,p) for r in r_value]"
   ]
  },
  {
   "cell_type": "code",
   "execution_count": 12,
   "id": "e6305938",
   "metadata": {},
   "outputs": [
    {
     "name": "stdout",
     "output_type": "stream",
     "text": [
      "r\tp(r)\n",
      "0\t0.05764800999999997\n",
      "1\t0.19765032000000005\n",
      "2\t0.29647547999999985\n",
      "3\t0.25412184\n",
      "4\t0.13613669999999994\n",
      "5\t0.04667543999999994\n",
      "6\t0.010001879999999998\n",
      "7\t0.0012247199999999992\n",
      "8\t6.560999999999998e-05\n"
     ]
    }
   ],
   "source": [
    "# Printing the table\n",
    "print(\"r\\tp(r)\")\n",
    "for i in range (n+1):\n",
    "    print(str(r_value[i]) + \"\\t\" + str(dist[i]))"
   ]
  },
  {
   "cell_type": "code",
   "execution_count": 13,
   "id": "0e80ee87",
   "metadata": {},
   "outputs": [
    {
     "data": {
      "image/png": "[encoded data removed]",
      "text/plain": [
       "<Figure size 640x480 with 1 Axes>"
      ]
     },
     "metadata": {},
     "output_type": "display_data"
    }
   ],
   "source": [
    "# Plotting the graph\n",
    "plt.bar(r_value,dist)\n",
    "plt.show()"
   ]
  },
  {
   "cell_type": "code",
   "execution_count": null,
   "id": "618deffd",
   "metadata": {},
   "outputs": [],
   "source": []
  }
 ],
 "metadata": {
  "kernelspec": {
   "display_name": "Python 3 (ipykernel)",
   "language": "python",
   "name": "python3"
  },
  "language_info": {
   "codemirror_mode": {
    "name": "ipython",
    "version": 3
   },
   "file_extension": ".py",
   "mimetype": "text/x-python",
   "name": "python",
   "nbconvert_exporter": "python",
   "pygments_lexer": "ipython3",
   "version": "3.11.3"
  }
 },
 "nbformat": 4,
 "nbformat_minor": 5
}
